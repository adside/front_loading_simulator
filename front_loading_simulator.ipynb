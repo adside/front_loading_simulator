{
 "cells": [
  {
   "cell_type": "markdown",
   "metadata": {},
   "source": [
    "# Google DFP Front Loading Simulator"
   ]
  },
  {
   "cell_type": "markdown",
   "metadata": {},
   "source": [
    "for ploting, import matplotlib"
   ]
  },
  {
   "cell_type": "code",
   "execution_count": 1,
   "metadata": {
    "collapsed": true
   },
   "outputs": [],
   "source": [
    "import matplotlib.pyplot as plt"
   ]
  },
  {
   "cell_type": "markdown",
   "metadata": {},
   "source": [
    "define three variables, daily calculated impressions, goal impressions, delivery period(day)"
   ]
  },
  {
   "cell_type": "code",
   "execution_count": 2,
   "metadata": {
    "collapsed": true
   },
   "outputs": [],
   "source": [
    "goal_impression = 100000\n",
    "delivery_day = 30"
   ]
  },
  {
   "cell_type": "markdown",
   "metadata": {},
   "source": [
    "Function recieves two parameters: \n",
    "    goal_impression, \n",
    "    delivery_day(e.g 30days --> 30),\n",
    "    front_loading_factor(e.g 5% --> 0.05)"
   ]
  },
  {
   "cell_type": "code",
   "execution_count": 3,
   "metadata": {
    "collapsed": true
   },
   "outputs": [],
   "source": [
    "def front_loading_simulator(goal_impression, delivery_day, front_loading_factor):\n",
    "    daily_impression = []\n",
    "    remain_impression = goal_impression\n",
    "    for i in range(0, delivery_day):\n",
    "        impression_per_day = remain_impression / (delivery_day - i) * (1 + front_loading_factor)\n",
    "        remain_impression -= impression_per_day\n",
    "        daily_impression.append(impression_per_day)\n",
    "    return daily_impression"
   ]
  },
  {
   "cell_type": "markdown",
   "metadata": {},
   "source": [
    "front loading 5% (evenly loading for dfp)"
   ]
  },
  {
   "cell_type": "code",
   "execution_count": 4,
   "metadata": {
    "collapsed": false
   },
   "outputs": [
    {
     "name": "stdout",
     "output_type": "stream",
     "text": [
      "[3499.65, 3493.978189655173, 3487.7389428879314, 3481.280167067769, 3474.5853975157156, 3467.636226720683, 3460.411984581682, 3452.8893498325915, 3445.0418740375176, 3436.8393933850475, 3428.2472949015846, 3419.2255914939487, 3409.727742628688, 3399.6991316209565, 3389.0750718346408, 3377.7781549285255, 3365.7146615180664, 3352.769605127612, 3338.799731772913, 3323.623369355764, 3307.0052525089854, 3288.6330011061573, 3268.079044849244, 3244.7356231003205, 3217.6961595744847, 3185.519197978739, 3145.700208004005, 3093.271871203938, 3015.940074423839, 2865.1430707026475]\n"
     ]
    }
   ],
   "source": [
    "y_values_5p = front_loading_simulator(goal_impression, delivery_day, 0.05)\n",
    "print y_values_5p"
   ]
  },
  {
   "cell_type": "code",
   "execution_count": 5,
   "metadata": {
    "collapsed": false
   },
   "outputs": [
    {
     "data": {
      "text/plain": [
       "[<matplotlib.lines.Line2D at 0x104a25890>]"
      ]
     },
     "execution_count": 5,
     "metadata": {},
     "output_type": "execute_result"
    }
   ],
   "source": [
    "plt.plot(range(1, delivery_day+1), y_values_5p, 'bo-')"
   ]
  },
  {
   "cell_type": "markdown",
   "metadata": {
    "collapsed": true
   },
   "source": [
    "front loading 40%"
   ]
  },
  {
   "cell_type": "code",
   "execution_count": 6,
   "metadata": {
    "collapsed": false,
    "scrolled": true
   },
   "outputs": [
    {
     "name": "stdout",
     "output_type": "stream",
     "text": [
      "[4666.2, 4602.321379310345, 4536.5739310344825, 4469.36542835249, 4400.60596022399, 4330.196264860407, 4258.026327112733, 4183.973695336859, 4107.901446330735, 4029.655704495864, 3949.062590405947, 3865.924430607927, 3780.0149988166395, 3691.073469432719, 3598.796632696901, 3502.8287224916503, 3402.7479018490317, 3298.047966407523, 3188.1130341939393, 3072.1816511323414, 2949.294385087048, 2818.214634638735, 2677.303902906798, 2524.315108454981, 2356.0274345579824, 2167.545239793344, 1950.7907158140097, 1690.6852870388086, 1352.5482296310468, 811.528937778628]\n"
     ]
    }
   ],
   "source": [
    "y_values_40p = front_loading_simulator(goal_impression, delivery_day, 0.4)\n",
    "print y_values_40p"
   ]
  },
  {
   "cell_type": "code",
   "execution_count": 7,
   "metadata": {
    "collapsed": false
   },
   "outputs": [
    {
     "data": {
      "text/plain": [
       "[<matplotlib.lines.Line2D at 0x104a3e690>]"
      ]
     },
     "execution_count": 7,
     "metadata": {},
     "output_type": "execute_result"
    }
   ],
   "source": [
    "plt.plot(range(1, delivery_day+1), y_values_40p, 'ro-')"
   ]
  },
  {
   "cell_type": "markdown",
   "metadata": {
    "collapsed": true
   },
   "source": [
    "evenly 0% (unmodified loading for dfp)"
   ]
  },
  {
   "cell_type": "code",
   "execution_count": 8,
   "metadata": {
    "collapsed": false,
    "scrolled": true
   },
   "outputs": [
    {
     "name": "stdout",
     "output_type": "stream",
     "text": [
      "[3333, 3333, 3333, 3333, 3333, 3333, 3333, 3333, 3333, 3333, 3333, 3333, 3333, 3333, 3333, 3333, 3333, 3333, 3333, 3333, 3334, 3334, 3334, 3334, 3334, 3334, 3334, 3334, 3334, 3334]\n"
     ]
    }
   ],
   "source": [
    "y_values_0p = front_loading_simulator(goal_impression, delivery_day, 0)\n",
    "print y_values_0p"
   ]
  },
  {
   "cell_type": "code",
   "execution_count": 9,
   "metadata": {
    "collapsed": false
   },
   "outputs": [],
   "source": [
    "plt.plot(range(1, delivery_day+1), y_values_0p, 'ko-')\n",
    "plt.show()"
   ]
  },
  {
   "cell_type": "markdown",
   "metadata": {},
   "source": [
    "accumulate y values to show reach rate"
   ]
  },
  {
   "cell_type": "code",
   "execution_count": 10,
   "metadata": {
    "collapsed": false
   },
   "outputs": [
    {
     "name": "stdout",
     "output_type": "stream",
     "text": [
      "[3.49965, 6.9936281896551735, 10.481367132543106, 13.962647299610875, 17.43723269712659, 20.90486892384727, 24.365280908428957, 27.818170258261546, 31.263212132299063, 34.70005152568411, 38.1282988205857, 41.54752441207964, 44.95725215470833, 48.356951286329284, 51.746026358163924, 55.12380451309245, 58.489519174610514, 61.84228877973813, 65.18108851151104, 68.50471188086681, 71.8117171333758, 75.10035013448194, 78.36842917933119, 81.61316480243151, 84.83086096200599, 88.01638015998472, 91.16208036798874, 94.25535223919267, 97.2712923136165, 100.13643538431914]\n",
      "[4.6662, 9.268521379310345, 13.805095310344827, 18.274460738697314, 22.675066698921306, 27.00526296378171, 31.26328929089445, 35.44726298623131, 39.55516443256204, 43.5848201370579, 47.53388272746384, 51.39980715807177, 55.17982215688841, 58.87089562632113, 62.46969225901803, 65.97252098150969, 69.37526888335871, 72.67331684976624, 75.86142988396018, 78.93361153509252, 81.88290592017958, 84.7011205548183, 87.3784244577251, 89.90273956618009, 92.25876700073806, 94.4263122405314, 96.37710295634541, 98.06778824338423, 99.42033647301528, 100.2318654107939]\n",
      "[3.333, 6.666, 9.999, 13.332, 16.665, 19.998, 23.331, 26.664, 29.997, 33.33, 36.663, 39.996, 43.329, 46.662, 49.995, 53.328, 56.661, 59.994, 63.327, 66.66, 69.994, 73.328, 76.662, 79.996, 83.33, 86.664, 89.998, 93.332, 96.666, 100.0]\n"
     ]
    }
   ],
   "source": [
    "rate_5p = []\n",
    "rate_40p = []\n",
    "rate_0p = []\n",
    "sum_5p = sum_40p = sum_0p = 0\n",
    "for i in range(0, delivery_day):\n",
    "    sum_5p += y_values_5p[i]\n",
    "    sum_40p += y_values_40p[i]\n",
    "    sum_0p += y_values_0p[i]\n",
    "    rate_5p.append(sum_5p * 100.0 / goal_impression)\n",
    "    rate_40p.append(sum_40p * 100.0 / goal_impression)\n",
    "    rate_0p.append(sum_0p * 100.0 / goal_impression)\n",
    "print rate_5p\n",
    "print rate_40p\n",
    "print rate_0p"
   ]
  },
  {
   "cell_type": "markdown",
   "metadata": {},
   "source": [
    "plot the rates to reach the goal impression"
   ]
  },
  {
   "cell_type": "code",
   "execution_count": 11,
   "metadata": {
    "collapsed": false
   },
   "outputs": [],
   "source": [
    "plt.plot(range(1, delivery_day+1), rate_5p, 'bo-')\n",
    "plt.plot(range(1, delivery_day+1), rate_40p, 'ro-')\n",
    "plt.plot(range(1, delivery_day+1), rate_0p, 'ko-')\n",
    "plt.show()"
   ]
  }
 ],
 "metadata": {
  "kernelspec": {
   "display_name": "Python 2",
   "language": "python",
   "name": "python2"
  },
  "language_info": {
   "codemirror_mode": {
    "name": "ipython",
    "version": 2
   },
   "file_extension": ".py",
   "mimetype": "text/x-python",
   "name": "python",
   "nbconvert_exporter": "python",
   "pygments_lexer": "ipython2",
   "version": "2.7.6"
  }
 },
 "nbformat": 4,
 "nbformat_minor": 0
}
